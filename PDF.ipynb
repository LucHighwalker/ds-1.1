
#%%
import numpy as np 
import pandas as pd 

df = pd.read_csv('../datasets/titanic.csv')


#%%
import seaborn as sns
sns.distplot(df['Age'].dropna(), hist=True, kde=False, bins=16)


#%%
sns.distplot(df['Age'].dropna(), hist=True, kde=True, bins=16)


#%%
in_range = len(df[(df['Age'] > 20) & (df['Age'] <= 25)]) 
total = len(df['Age'].dropna())
interval = (np.max(df['Age']) - np.min(df['Age'])) / 16

in_range / total / interval


#%%
in_range = len(df[(df['Age'] < 40)]) 
total = len(df['Age'].dropna())

in_range / total 


#%%
ls_age = df['Age'].dropna().values

def calculate_cdf(x, threshold):
    return np.sum(x <= threshold)

cdf_age = [calculate_cdf(ls_age, r)/len(ls_age) for r in range(int(np.min(ls_age)), int(np.max(ls_age)))]


#%%
import matplotlib.pyplot as plt

plt.plot(range(int(np.min(ls_age)), int(np.max(ls_age))), cdf_age)


#%%
sns.violinplot(x="Sex", y="Age", data=df)


#%%
a = np.random.normal(60, 10, 1000)
sns.distplot(a, hist=True, kde=True, bins=20)

#%%

from scipy.stats import norm

print(norm.sf(70, loc=60, scale=10))

# or

1 - norm.cdf(70, loc=60, scale=10)

#%%
norm.cdf(70, loc=60, scale=10) - norm.cdf(50, loc=60, scale=10)

#%%
b = (a - 60)/10
sns.distplot(b, hist=True, kde=True, bins=20)

#%%
