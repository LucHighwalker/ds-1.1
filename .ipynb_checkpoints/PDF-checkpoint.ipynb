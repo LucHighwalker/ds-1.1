{
 "cells": [
  {
   "cell_type": "code",
   "execution_count": 3,
   "metadata": {},
   "outputs": [],
   "source": [
    "import numpy as np \n",
    "import pandas as pd \n",
    "\n",
    "df = pd.read_csv('../datasets/titanic.csv')"
   ]
  },
  {
   "cell_type": "code",
   "execution_count": 4,
   "metadata": {},
   "outputs": [
    {
     "data": {
      "text/plain": [
       "<matplotlib.axes._subplots.AxesSubplot at 0x7fc7642e5470>"
      ]
     },
     "execution_count": 4,
     "metadata": {},
     "output_type": "execute_result"
    },
    {
     "data": {
      "image/png": "[encoded data removed]",
      "text/plain": [
       "<Figure size 432x288 with 1 Axes>"
      ]
     },
     "metadata": {
      "needs_background": "light"
     },
     "output_type": "display_data"
    }
   ],
   "source": [
    "import seaborn as sns\n",
    "sns.distplot(df['Age'].dropna(), hist=True, kde=False, bins=16)"
   ]
  },
  {
   "cell_type": "code",
   "execution_count": 5,
   "metadata": {},
   "outputs": [
    {
     "data": {
      "text/plain": [
       "<matplotlib.axes._subplots.AxesSubplot at 0x7fc74073bb38>"
      ]
     },
     "execution_count": 5,
     "metadata": {},
     "output_type": "execute_result"
    },
    {
     "data": {
      "image/png": "[encoded data removed]",
      "text/plain": [
       "<Figure size 432x288 with 1 Axes>"
      ]
     },
     "metadata": {
      "needs_background": "light"
     },
     "output_type": "display_data"
    }
   ],
   "source": [
    "sns.distplot(df['Age'].dropna(), hist=True, kde=True, bins=16)"
   ]
  },
  {
   "cell_type": "code",
   "execution_count": 23,
   "metadata": {},
   "outputs": [
    {
     "data": {
      "text/plain": [
       "0.03417366946778712"
      ]
     },
     "execution_count": 23,
     "metadata": {},
     "output_type": "execute_result"
    }
   ],
   "source": [
    "in_range = len(df[(df['Age'] > 20) & (df['Age'] <= 25)]) \n",
    "total = len(df['Age'].dropna())\n",
    "interval = (np.max(df['Age']) - np.min(df['Age'])) / 16\n",
    "\n",
    "in_range / total / interval"
   ]
  },
  {
   "cell_type": "code",
   "execution_count": 30,
   "metadata": {},
   "outputs": [
    {
     "data": {
      "text/plain": [
       "0.7717086834733894"
      ]
     },
     "execution_count": 30,
     "metadata": {},
     "output_type": "execute_result"
    }
   ],
   "source": [
    "in_range = len(df[(df['Age'] < 40)]) \n",
    "total = len(df['Age'].dropna())\n",
    "\n",
    "in_range / total "
   ]
  },
  {
   "cell_type": "code",
   "execution_count": 34,
   "metadata": {},
   "outputs": [
    {
     "data": {
      "text/plain": [
       "[0.0,\n",
       " 0.0196078431372549,\n",
       " 0.03361344537815126,\n",
       " 0.04201680672268908,\n",
       " 0.056022408963585436,\n",
       " 0.06162464985994398,\n",
       " 0.06582633053221289,\n",
       " 0.0700280112044818,\n",
       " 0.07563025210084033,\n",
       " 0.08683473389355742,\n",
       " 0.0896358543417367,\n",
       " 0.09523809523809523,\n",
       " 0.09663865546218488,\n",
       " 0.09943977591036414,\n",
       " 0.10784313725490197,\n",
       " 0.11624649859943978,\n",
       " 0.1400560224089636,\n",
       " 0.15826330532212884,\n",
       " 0.19467787114845939,\n",
       " 0.22969187675070027,\n",
       " 0.2507002801120448,\n",
       " 0.2857142857142857,\n",
       " 0.3235294117647059,\n",
       " 0.3445378151260504,\n",
       " 0.38795518207282914,\n",
       " 0.4215686274509804,\n",
       " 0.44677871148459386,\n",
       " 0.47198879551820727,\n",
       " 0.5070028011204482,\n",
       " 0.5378151260504201,\n",
       " 0.572829131652661,\n",
       " 0.5994397759103641,\n",
       " 0.6246498599439776,\n",
       " 0.6484593837535014,\n",
       " 0.6694677871148459,\n",
       " 0.696078431372549,\n",
       " 0.726890756302521,\n",
       " 0.7366946778711485,\n",
       " 0.7521008403361344,\n",
       " 0.7717086834733894,\n",
       " 0.7899159663865546,\n",
       " 0.8011204481792717,\n",
       " 0.819327731092437,\n",
       " 0.8263305322128851,\n",
       " 0.8389355742296919,\n",
       " 0.8557422969187675,\n",
       " 0.8627450980392157,\n",
       " 0.8753501400560224,\n",
       " 0.8879551820728291,\n",
       " 0.896358543417367,\n",
       " 0.9103641456582633,\n",
       " 0.9201680672268907,\n",
       " 0.9285714285714286,\n",
       " 0.9299719887955182,\n",
       " 0.9411764705882353,\n",
       " 0.9439775910364145,\n",
       " 0.9509803921568627,\n",
       " 0.9537815126050421,\n",
       " 0.9607843137254902,\n",
       " 0.9635854341736695,\n",
       " 0.969187675070028,\n",
       " 0.9733893557422969,\n",
       " 0.9789915966386554,\n",
       " 0.9817927170868347,\n",
       " 0.9845938375350141,\n",
       " 0.988795518207283,\n",
       " 0.9901960784313726,\n",
       " 0.9901960784313726,\n",
       " 0.9901960784313726,\n",
       " 0.9901960784313726,\n",
       " 0.9929971988795518,\n",
       " 0.9971988795518207,\n",
       " 0.9971988795518207,\n",
       " 0.9971988795518207,\n",
       " 0.9985994397759104,\n",
       " 0.9985994397759104,\n",
       " 0.9985994397759104,\n",
       " 0.9985994397759104,\n",
       " 0.9985994397759104,\n",
       " 0.9985994397759104]"
      ]
     },
     "execution_count": 34,
     "metadata": {},
     "output_type": "execute_result"
    }
   ],
   "source": [
    "ls_age = df['Age'].dropna().values\n",
    "\n",
    "def calculate_cdf(x, threshold):\n",
    "    return np.sum(x <= threshold)\n",
    "\n",
    "cdf_age = [calculate_cdf(ls_age, r)/len(ls_age) for r in range(int(np.min(ls_age)), int(np.max(ls_age)))]\n"
   ]
  },
  {
   "cell_type": "code",
   "execution_count": null,
   "metadata": {},
   "outputs": [],
   "source": []
  }
 ],
 "metadata": {
  "kernelspec": {
   "display_name": "Python 3",
   "language": "python",
   "name": "python3"
  },
  "language_info": {
   "codemirror_mode": {
    "name": "ipython",
    "version": 3
   },
   "file_extension": ".py",
   "mimetype": "text/x-python",
   "name": "python",
   "nbconvert_exporter": "python",
   "pygments_lexer": "ipython3",
   "version": "3.7.3"
  }
 },
 "nbformat": 4,
 "nbformat_minor": 2
}
